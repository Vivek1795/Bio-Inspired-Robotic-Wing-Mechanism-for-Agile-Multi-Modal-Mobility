{
 "cells": [
  {
   "cell_type": "code",
   "execution_count": 1,
   "id": "c538a617-d646-4170-9794-7b79b5ee112f",
   "metadata": {},
   "outputs": [],
   "source": [
    "import sympy\n",
    "from sympy import sin,cos\n",
    "from math import pi\n",
    "import numpy\n",
    "import matplotlib.pyplot as plt\n",
    "import scipy.optimize as so"
   ]
  },
  {
   "cell_type": "code",
   "execution_count": 2,
   "id": "90c3eae9-94a9-4033-b4cd-ddeff808c8e9",
   "metadata": {},
   "outputs": [],
   "source": [
    "q1,q2,q3,q4,q5 = sympy.symbols('\\\\theta_1,\\\\theta_2,\\\\theta_3,\\\\theta_4,\\\\theta_5')"
   ]
  },
  {
   "cell_type": "code",
   "execution_count": 3,
   "id": "9222166b-76bb-4f41-8b83-115184ddc9ec",
   "metadata": {},
   "outputs": [],
   "source": [
    "l1,l2,l3,l4 = sympy.symbols('l_1,l_2,l_3,l_4')"
   ]
  },
  {
   "cell_type": "code",
   "execution_count": 4,
   "id": "5a552d60-5e0b-4379-a789-5ae62513a836",
   "metadata": {},
   "outputs": [],
   "source": [
    "def Rz(theta):\n",
    "    return sympy.Matrix([[cos(theta),-sin(theta),0],[sin(theta),cos(theta),0],[0,0,1]])"
   ]
  },
  {
   "cell_type": "code",
   "execution_count": 5,
   "id": "ff720e5e-c95e-4e8f-9789-6ea715efd862",
   "metadata": {},
   "outputs": [],
   "source": [
    "Ra = Rz(q1)\n",
    "Rb = Rz(q2)\n",
    "Rc = Rz(q3)\n",
    "Rd = Rz(q4)\n",
    "Re = Rz(q5)\n",
    "\n"
   ]
  },
  {
   "cell_type": "code",
   "execution_count": 6,
   "id": "b7b5008c-da27-4476-b6ae-d946bd17ae61",
   "metadata": {},
   "outputs": [],
   "source": [
    "x = sympy.Matrix([1,0,0])"
   ]
  },
  {
   "cell_type": "code",
   "execution_count": 7,
   "id": "bfccbb28-463a-45c3-95e9-59bec996d03c",
   "metadata": {},
   "outputs": [],
   "source": [
    "v1_in_a = l1*x\n",
    "v1_in_n = Ra*v1_in_a"
   ]
  },
  {
   "cell_type": "code",
   "execution_count": 8,
   "id": "646b72e0-da03-4f17-a0be-0ab006d7b9e9",
   "metadata": {},
   "outputs": [],
   "source": [
    "v2_in_b = l2*x\n",
    "v2_in_a = Rb*v2_in_b\n",
    "v2_in_n = Ra*v2_in_a"
   ]
  },
  {
   "cell_type": "code",
   "execution_count": 9,
   "id": "ee542af3-27e1-4e5e-8293-9dbb9dcd8e02",
   "metadata": {},
   "outputs": [],
   "source": [
    "v3_in_cp = l3*x\n",
    "v3_in_b = Rc*v3_in_cp\n",
    "v3_in_a = Rb*v3_in_b\n",
    "v3_in_n = Ra*v3_in_a"
   ]
  },
  {
   "cell_type": "code",
   "execution_count": 10,
   "id": "1d493e00-2781-4337-9c2f-b46cac631872",
   "metadata": {},
   "outputs": [],
   "source": [
    "v4_in_d = l4*x\n",
    "v4_in_a = Rd*v4_in_d\n",
    "v4_in_n = Ra*v4_in_a"
   ]
  },
  {
   "cell_type": "code",
   "execution_count": 11,
   "id": "52b326ee-eb56-4812-a52b-2be0ae669fd8",
   "metadata": {},
   "outputs": [],
   "source": [
    "v5_in_e = l3*x\n",
    "v5_in_d = Re*v5_in_e\n",
    "v5_in_a = Rd*v5_in_d\n",
    "v5_in_n = Ra*v5_in_a"
   ]
  },
  {
   "cell_type": "code",
   "execution_count": 12,
   "id": "5a9edb57-5807-47bd-83b2-e337f707588c",
   "metadata": {},
   "outputs": [],
   "source": [
    "p_end = v4_in_n+v5_in_n\n",
    "p_end_p = v1_in_n+v2_in_n"
   ]
  },
  {
   "cell_type": "code",
   "execution_count": 13,
   "id": "2d99bfe7-e24a-44ba-8219-83583187ed8d",
   "metadata": {},
   "outputs": [],
   "source": [
    "zero_vec = p_end-p_end_p\n",
    "zero_vec.simplify()"
   ]
  },
  {
   "cell_type": "code",
   "execution_count": 14,
   "id": "3b775f18-2602-47e0-9b73-b3b0248cb458",
   "metadata": {},
   "outputs": [],
   "source": [
    "zero = []\n",
    "zero.append((zero_vec.T*sympy.Matrix([1,0,0]))[0])\n",
    "zero.append((zero_vec.T*sympy.Matrix([0,1,0]))[0])\n",
    "zero.append((v3_in_n.T*v5_in_n)[0]+l3**2)\n",
    "zero.append(q1)"
   ]
  },
  {
   "cell_type": "code",
   "execution_count": 15,
   "id": "3d704a79-1711-4c1a-a1ac-5976ab1705c2",
   "metadata": {},
   "outputs": [],
   "source": [
    "design = {}\n",
    "design[l1] = 3\n",
    "design[l2] = 3.26\n",
    "design[l3] = 2\n",
    "design[l4] = 1.25\n",
    "\n",
    "design1 = {}\n",
    "design1[l1] = 3\n",
    "design1[l2] = -3.26\n",
    "design1[l3] = -2\n",
    "design1[l4] = -1.25"
   ]
  },
  {
   "cell_type": "code",
   "execution_count": 16,
   "id": "bc2f1e07-24ad-4e90-9d72-d088213d767a",
   "metadata": {},
   "outputs": [],
   "source": [
    "def plot_fourbar(design,thetas):\n",
    "    state_variables = q1,q2,q3,q4,q5\n",
    "    state = dict(zip(state_variables,thetas))\n",
    "    points_design = points.subs(design)\n",
    "    points_state = points_design.subs(state)\n",
    "    points_state_numpy = numpy.array(points_state,dtype=numpy.float64)\n",
    "    print(points_state_numpy)\n",
    "    plt.plot(*(points_state_numpy[:2,:]))\n",
    "    plt.axis('equal')"
   ]
  },
  {
   "cell_type": "code",
   "execution_count": 17,
   "id": "d44185c3-7a19-4e03-9cdb-3a2a942c0d86",
   "metadata": {},
   "outputs": [],
   "source": [
    "def gen_objective(design,q4_desired):\n",
    "    zero_local = zero.copy()\n",
    "    zero_local.append(q4-q4_desired)\n",
    "    \n",
    "    zero_local = sympy.Matrix(zero_local)\n",
    "    zero_design = zero_local.subs(design)\n",
    "    \n",
    "    \n",
    "    def objective_function(qn):\n",
    "        q1n,q2n,q3n,q4n,q5n=qn\n",
    "       \n",
    "        subs = {}\n",
    "        subs[q1]=q1n\n",
    "        subs[q2]=q2n\n",
    "        subs[q3]=q3n\n",
    "        subs[q4]=q4n\n",
    "        subs[q5]=q5n\n",
    "        \n",
    "        \n",
    "        zero_n = zero_design.subs(subs)\n",
    "        sos = ((zero_n.T*zero_n)[0])**.5\n",
    "\n",
    "        \n",
    "        return float(sos)\n",
    "    return objective_function"
   ]
  },
  {
   "cell_type": "code",
   "execution_count": 18,
   "id": "43187300-5487-421b-be4b-ce49a9720c54",
   "metadata": {},
   "outputs": [],
   "source": [
    "guess = numpy.array([0, 30, 30, 90,-30])*pi/180"
   ]
  },
  {
   "cell_type": "code",
   "execution_count": 19,
   "id": "cac1312b-4bf8-4fed-ada6-3e0e78a60182",
   "metadata": {},
   "outputs": [],
   "source": [
    "origin = sympy.Matrix([0,0,0])\n",
    "p1 = v1_in_n\n",
    "p2 = v1_in_n + v2_in_n\n",
    "p3 = v1_in_n + v2_in_n + v3_in_n\n",
    "p4 = v4_in_n\n",
    "p5 = v4_in_n + v5_in_n\n",
    "\n",
    "\n",
    "\n"
   ]
  },
  {
   "cell_type": "code",
   "execution_count": 20,
   "id": "60740490-2e3c-4156-bdc7-3d5a457efd46",
   "metadata": {},
   "outputs": [],
   "source": [
    "points = sympy.Matrix([p3.T,p2.T,p1.T,origin.T,p4.T,p5.T]).T"
   ]
  },
  {
   "cell_type": "code",
   "execution_count": 21,
   "id": "0437c718-b195-49ec-bdaa-ac1d8a3e9f0c",
   "metadata": {},
   "outputs": [],
   "source": [
    "points_design = points.subs(design)"
   ]
  },
  {
   "cell_type": "code",
   "execution_count": 22,
   "id": "20534c0d-32fd-4ddb-ad71-bcf41ffa4a3d",
   "metadata": {},
   "outputs": [
    {
     "name": "stdout",
     "output_type": "stream",
     "text": [
      "[[4.23098595e-01 1.47241459e+00 3.00000000e+00 0.00000000e+00\n",
      "  4.27642309e-01 1.47236843e+00]\n",
      " [1.17732238e+00 2.87994857e+00 3.64031735e-06 0.00000000e+00\n",
      "  1.17457314e+00 2.88001951e+00]\n",
      " [0.00000000e+00 0.00000000e+00 0.00000000e+00 0.00000000e+00\n",
      "  0.00000000e+00 0.00000000e+00]]\n",
      "[[ 4.21713897e-01  1.47239304e+00  3.00000000e+00  0.00000000e+00\n",
      "   4.27571491e-01  1.47245310e+00]\n",
      " [-1.17813198e+00 -2.87991732e+00  1.61773833e-05  0.00000000e+00\n",
      "  -1.17459892e+00 -2.87995003e+00]\n",
      " [ 0.00000000e+00  0.00000000e+00  0.00000000e+00  0.00000000e+00\n",
      "   0.00000000e+00  0.00000000e+00]]\n"
     ]
    },
    {
     "data": {
      "image/png": "[encoded data removed]",
      "text/plain": [
       "<Figure size 640x480 with 1 Axes>"
      ]
     },
     "metadata": {},
     "output_type": "display_data"
    }
   ],
   "source": [
    "objective_function = gen_objective(design,70*pi/180)\n",
    "result = so.minimize(objective_function,guess,options={'xrtol':1e-4})\n",
    "plot_fourbar(design,result.x)\n",
    "\n",
    "objective_function = gen_objective(design1,110*pi/180)\n",
    "result1 = so.minimize(objective_function,guess,options={'xrtol':1e-4})\n",
    "plot_fourbar(design1,result1.x)"
   ]
  },
  {
   "cell_type": "code",
   "execution_count": 23,
   "id": "f45114ad-7776-4234-86cf-8f8cd4b9c547",
   "metadata": {},
   "outputs": [
    {
     "name": "stdout",
     "output_type": "stream",
     "text": [
      "[[ 2.16972409e-01  1.40259146e+00  3.00000000e+00  0.00000000e+00\n",
      "   2.17214102e-01  1.40269651e+00]\n",
      " [ 1.23102703e+00  2.84171243e+00 -9.79028539e-05  0.00000000e+00\n",
      "   1.23098255e+00  2.84176853e+00]\n",
      " [ 0.00000000e+00  0.00000000e+00  0.00000000e+00  0.00000000e+00\n",
      "   0.00000000e+00  0.00000000e+00]]\n",
      "[[ 2.24556065e-01  1.40231820e+00  2.99999999e+00  0.00000000e+00\n",
      "   2.16970667e-01  1.40249962e+00]\n",
      " [-1.22542131e+00 -2.84186071e+00 -2.03997727e-04  0.00000000e+00\n",
      "  -1.23102548e+00 -2.84177720e+00]\n",
      " [ 0.00000000e+00  0.00000000e+00  0.00000000e+00  0.00000000e+00\n",
      "   0.00000000e+00  0.00000000e+00]]\n"
     ]
    },
    {
     "data": {
      "image/png": "[encoded data removed]",
      "text/plain": [
       "<Figure size 640x480 with 1 Axes>"
      ]
     },
     "metadata": {},
     "output_type": "display_data"
    }
   ],
   "source": [
    "objective_function = gen_objective(design,80*pi/180)\n",
    "result = so.minimize(objective_function,guess,options={'xrtol':1e-4})\n",
    "plot_fourbar(design,result.x)\n",
    "\n",
    "objective_function = gen_objective(design1,100*pi/180)\n",
    "result1 = so.minimize(objective_function,guess,options={'xrtol':1e-4})\n",
    "plot_fourbar(design1,result1.x)"
   ]
  },
  {
   "cell_type": "code",
   "execution_count": 24,
   "id": "b3afcdc2-fa86-4b9f-8033-a216ff5296c5",
   "metadata": {},
   "outputs": [
    {
     "data": {
      "text/latex": [
       "$\\displaystyle \\left[\\begin{matrix}- l_{1} \\cos{\\left(\\theta_{1} \\right)} - l_{2} \\cos{\\left(\\theta_{1} + \\theta_{2} \\right)} + l_{3} \\cos{\\left(\\theta_{1} + \\theta_{4} + \\theta_{5} \\right)} + l_{4} \\cos{\\left(\\theta_{1} + \\theta_{4} \\right)}\\\\- l_{1} \\sin{\\left(\\theta_{1} \\right)} - l_{2} \\sin{\\left(\\theta_{1} + \\theta_{2} \\right)} + l_{3} \\sin{\\left(\\theta_{1} + \\theta_{4} + \\theta_{5} \\right)} + l_{4} \\sin{\\left(\\theta_{1} + \\theta_{4} \\right)}\\\\l_{3}^{2} \\left(\\cos{\\left(\\theta_{2} + \\theta_{3} - \\theta_{4} - \\theta_{5} \\right)} + 1\\right)\\\\\\theta_{1}\\end{matrix}\\right]$"
      ],
      "text/plain": [
       "Matrix([\n",
       "[-l_1*cos(\\theta_1) - l_2*cos(\\theta_1 + \\theta_2) + l_3*cos(\\theta_1 + \\theta_4 + \\theta_5) + l_4*cos(\\theta_1 + \\theta_4)],\n",
       "[-l_1*sin(\\theta_1) - l_2*sin(\\theta_1 + \\theta_2) + l_3*sin(\\theta_1 + \\theta_4 + \\theta_5) + l_4*sin(\\theta_1 + \\theta_4)],\n",
       "[                                                               l_3**2*(cos(\\theta_2 + \\theta_3 - \\theta_4 - \\theta_5) + 1)],\n",
       "[                                                                                                                  \\theta_1]])"
      ]
     },
     "execution_count": 24,
     "metadata": {},
     "output_type": "execute_result"
    }
   ],
   "source": [
    "zero1 = sympy.Matrix(zero)\n",
    "zero1.simplify()\n",
    "zero1"
   ]
  },
  {
   "cell_type": "code",
   "execution_count": 25,
   "id": "927c1e3c-aac5-4b8a-a999-580d89163e2f",
   "metadata": {},
   "outputs": [],
   "source": [
    "independent = sympy.Matrix([q4])\n",
    "dependent = sympy.Matrix([q1,q2,q3,q5])\n",
    "zero_design = zero1.subs(design)"
   ]
  },
  {
   "cell_type": "code",
   "execution_count": 26,
   "id": "bd52f76e-0ac2-44cc-93ff-a8068b0bedfe",
   "metadata": {},
   "outputs": [
    {
     "data": {
      "text/latex": [
       "$\\displaystyle \\left[\\begin{matrix}- 1.25 \\sin{\\left(\\theta_{1} + \\theta_{4} \\right)} - 2 \\sin{\\left(\\theta_{1} + \\theta_{4} + \\theta_{5} \\right)}\\\\1.25 \\cos{\\left(\\theta_{1} + \\theta_{4} \\right)} + 2 \\cos{\\left(\\theta_{1} + \\theta_{4} + \\theta_{5} \\right)}\\\\4 \\sin{\\left(\\theta_{2} + \\theta_{3} - \\theta_{4} - \\theta_{5} \\right)}\\\\0\\end{matrix}\\right]$"
      ],
      "text/plain": [
       "Matrix([\n",
       "[-1.25*sin(\\theta_1 + \\theta_4) - 2*sin(\\theta_1 + \\theta_4 + \\theta_5)],\n",
       "[ 1.25*cos(\\theta_1 + \\theta_4) + 2*cos(\\theta_1 + \\theta_4 + \\theta_5)],\n",
       "[                      4*sin(\\theta_2 + \\theta_3 - \\theta_4 - \\theta_5)],\n",
       "[                                                                     0]])"
      ]
     },
     "execution_count": 26,
     "metadata": {},
     "output_type": "execute_result"
    }
   ],
   "source": [
    "A = zero_design.jacobian(independent)\n",
    "A"
   ]
  },
  {
   "cell_type": "code",
   "execution_count": 27,
   "id": "b42bda7e-5b36-4426-9309-ecce0bcb3fd1",
   "metadata": {},
   "outputs": [],
   "source": [
    "B = zero_design.jacobian(dependent)"
   ]
  },
  {
   "cell_type": "code",
   "execution_count": 28,
   "id": "e55b89e0-f06c-4c45-a74d-d0f68da5d5ee",
   "metadata": {},
   "outputs": [
    {
     "data": {
      "text/plain": [
       "array([[-2.84176853e+00],\n",
       "       [ 1.40269651e+00],\n",
       "       [ 3.39352237e-04],\n",
       "       [ 0.00000000e+00]])"
      ]
     },
     "execution_count": 28,
     "metadata": {},
     "output_type": "execute_result"
    }
   ],
   "source": [
    "state_variables = q1,q2,q3,q4,q5\n",
    "state = dict(zip(state_variables,result.x))\n",
    "An = numpy.array(A.subs(state),dtype=float)\n",
    "An"
   ]
  },
  {
   "cell_type": "code",
   "execution_count": 29,
   "id": "4fdf9f79-a5ce-48b5-831d-003c460a6ff5",
   "metadata": {},
   "outputs": [
    {
     "data": {
      "text/plain": [
       "array([[-2.8417772 ],\n",
       "       [-1.40249962],\n",
       "       [ 0.01925333],\n",
       "       [ 0.        ]])"
      ]
     },
     "execution_count": 29,
     "metadata": {},
     "output_type": "execute_result"
    }
   ],
   "source": [
    "state1 = dict(zip(state_variables,result1.x))\n",
    "An1 = numpy.array(A.subs(state1),dtype=float)\n",
    "An1"
   ]
  },
  {
   "cell_type": "code",
   "execution_count": 30,
   "id": "df5986bd-4457-4cec-8a8e-61e487e1f818",
   "metadata": {},
   "outputs": [
    {
     "data": {
      "text/plain": [
       "array([[-5.60951841e-05,  2.84181033e+00,  0.00000000e+00,\n",
       "        -1.61078598e+00],\n",
       "       [ 1.05041562e-04,  1.59740853e+00,  0.00000000e+00,\n",
       "         1.18548240e+00],\n",
       "       [ 0.00000000e+00, -3.39352237e-04, -3.39352237e-04,\n",
       "         3.39352237e-04],\n",
       "       [ 1.00000000e+00,  0.00000000e+00,  0.00000000e+00,\n",
       "         0.00000000e+00]])"
      ]
     },
     "execution_count": 30,
     "metadata": {},
     "output_type": "execute_result"
    }
   ],
   "source": [
    "Bn = numpy.array(B.subs(state),dtype=float)\n",
    "Bn"
   ]
  },
  {
   "cell_type": "code",
   "execution_count": 31,
   "id": "e4cc70f4-b21c-4dea-b7bd-98b302b9ba4f",
   "metadata": {},
   "outputs": [
    {
     "data": {
      "text/plain": [
       "array([[-3.24480656e-04,  2.84165672e+00,  0.00000000e+00,\n",
       "        -1.61075172e+00],\n",
       "       [-6.00018140e+00, -1.59768179e+00,  0.00000000e+00,\n",
       "        -1.18552895e+00],\n",
       "       [ 0.00000000e+00, -1.92533261e-02, -1.92533261e-02,\n",
       "         1.92533261e-02],\n",
       "       [ 1.00000000e+00,  0.00000000e+00,  0.00000000e+00,\n",
       "         0.00000000e+00]])"
      ]
     },
     "execution_count": 31,
     "metadata": {},
     "output_type": "execute_result"
    }
   ],
   "source": [
    "Bn1 = numpy.array(B.subs(state1),dtype=float)\n",
    "Bn1"
   ]
  },
  {
   "cell_type": "code",
   "execution_count": 32,
   "id": "7a859695-58c8-48ae-a194-53b071a22c30",
   "metadata": {},
   "outputs": [
    {
     "data": {
      "text/plain": [
       "array([[ 0.        ],\n",
       "       [ 0.18670866],\n",
       "       [-0.62152245],\n",
       "       [-1.43481379]])"
      ]
     },
     "execution_count": 32,
     "metadata": {},
     "output_type": "execute_result"
    }
   ],
   "source": [
    "Cn = -numpy.linalg.inv(Bn)@An\n",
    "Cn"
   ]
  },
  {
   "cell_type": "code",
   "execution_count": 33,
   "id": "05730541-4af6-42f2-bc55-205d978dbcc9",
   "metadata": {},
   "outputs": [
    {
     "data": {
      "text/plain": [
       "array([[-1.30774120e-16],\n",
       "       [ 1.86783557e-01],\n",
       "       [-6.21518917e-01],\n",
       "       [-1.43473536e+00]])"
      ]
     },
     "execution_count": 33,
     "metadata": {},
     "output_type": "execute_result"
    }
   ],
   "source": [
    "Cn1 = -numpy.linalg.inv(Bn1)@An1\n",
    "Cn1"
   ]
  },
  {
   "cell_type": "code",
   "execution_count": 34,
   "id": "26358421-5197-4275-89d0-684eb4409572",
   "metadata": {},
   "outputs": [
    {
     "data": {
      "text/latex": [
       "$\\displaystyle \\left[\\begin{matrix}- l_{4} \\sin{\\left(\\theta_{1} \\right)} \\sin{\\left(\\theta_{4} \\right)} + l_{4} \\cos{\\left(\\theta_{1} \\right)} \\cos{\\left(\\theta_{4} \\right)} + 0.5 \\left(- l_{3} \\sin{\\left(\\theta_{4} \\right)} \\sin{\\left(\\theta_{5} \\right)} + l_{3} \\cos{\\left(\\theta_{4} \\right)} \\cos{\\left(\\theta_{5} \\right)}\\right) \\cos{\\left(\\theta_{1} \\right)} - 0.5 \\left(l_{3} \\sin{\\left(\\theta_{4} \\right)} \\cos{\\left(\\theta_{5} \\right)} + l_{3} \\sin{\\left(\\theta_{5} \\right)} \\cos{\\left(\\theta_{4} \\right)}\\right) \\sin{\\left(\\theta_{1} \\right)}\\\\l_{4} \\sin{\\left(\\theta_{1} \\right)} \\cos{\\left(\\theta_{4} \\right)} + l_{4} \\sin{\\left(\\theta_{4} \\right)} \\cos{\\left(\\theta_{1} \\right)} + 0.5 \\left(- l_{3} \\sin{\\left(\\theta_{4} \\right)} \\sin{\\left(\\theta_{5} \\right)} + l_{3} \\cos{\\left(\\theta_{4} \\right)} \\cos{\\left(\\theta_{5} \\right)}\\right) \\sin{\\left(\\theta_{1} \\right)} + 0.5 \\left(l_{3} \\sin{\\left(\\theta_{4} \\right)} \\cos{\\left(\\theta_{5} \\right)} + l_{3} \\sin{\\left(\\theta_{5} \\right)} \\cos{\\left(\\theta_{4} \\right)}\\right) \\cos{\\left(\\theta_{1} \\right)}\\\\0\\end{matrix}\\right]$"
      ],
      "text/plain": [
       "Matrix([\n",
       "[-l_4*sin(\\theta_1)*sin(\\theta_4) + l_4*cos(\\theta_1)*cos(\\theta_4) + 0.5*(-l_3*sin(\\theta_4)*sin(\\theta_5) + l_3*cos(\\theta_4)*cos(\\theta_5))*cos(\\theta_1) - 0.5*(l_3*sin(\\theta_4)*cos(\\theta_5) + l_3*sin(\\theta_5)*cos(\\theta_4))*sin(\\theta_1)],\n",
       "[ l_4*sin(\\theta_1)*cos(\\theta_4) + l_4*sin(\\theta_4)*cos(\\theta_1) + 0.5*(-l_3*sin(\\theta_4)*sin(\\theta_5) + l_3*cos(\\theta_4)*cos(\\theta_5))*sin(\\theta_1) + 0.5*(l_3*sin(\\theta_4)*cos(\\theta_5) + l_3*sin(\\theta_5)*cos(\\theta_4))*cos(\\theta_1)],\n",
       "[                                                                                                                                                                                                                                                  0]])"
      ]
     },
     "execution_count": 34,
     "metadata": {},
     "output_type": "execute_result"
    }
   ],
   "source": [
    "p_out = v4_in_n + .5*v5_in_n\n",
    "p_out"
   ]
  },
  {
   "cell_type": "code",
   "execution_count": 35,
   "id": "09b852f4-89db-4ac1-a47c-52143a5b5ca6",
   "metadata": {},
   "outputs": [
    {
     "data": {
      "text/plain": [
       "array([[-0.88078657],\n",
       "       [-0.04051795],\n",
       "       [ 0.        ]])"
      ]
     },
     "execution_count": 35,
     "metadata": {},
     "output_type": "execute_result"
    }
   ],
   "source": [
    "D = p_out.jacobian(independent)\n",
    "Dn = numpy.array(D.subs(design).subs(state),dtype=float)\n",
    "E = p_out.jacobian(dependent)\n",
    "En = numpy.array(E.subs(design).subs(state),dtype=float)\n",
    "Jo = Dn+(En@Cn)\n",
    "Jo"
   ]
  },
  {
   "cell_type": "code",
   "execution_count": 36,
   "id": "0f698bd5-2e0a-485b-a277-7f7578923e45",
   "metadata": {},
   "outputs": [
    {
     "data": {
      "text/plain": [
       "array([[ 0.88090011],\n",
       "       [-0.04072501],\n",
       "       [ 0.        ]])"
      ]
     },
     "execution_count": 36,
     "metadata": {},
     "output_type": "execute_result"
    }
   ],
   "source": [
    "D1 = p_out.jacobian(independent)\n",
    "Dn1 = numpy.array(D.subs(design1).subs(state1),dtype=float)\n",
    "E1 = p_out.jacobian(dependent)\n",
    "En1 = numpy.array(E.subs(design1).subs(state1),dtype=float)\n",
    "Jo1 = Dn1+(En1@Cn1)\n",
    "Jo1"
   ]
  },
  {
   "cell_type": "code",
   "execution_count": 37,
   "id": "d382b161-8a09-41be-a856-4bff4b18ed85",
   "metadata": {},
   "outputs": [
    {
     "data": {
      "text/plain": [
       "array([[-0.88078657],\n",
       "       [-0.04051795],\n",
       "       [ 0.        ]])"
      ]
     },
     "execution_count": 37,
     "metadata": {},
     "output_type": "execute_result"
    }
   ],
   "source": [
    "y_dot = Jo@numpy.array([[1,]]).T\n",
    "y_dot"
   ]
  },
  {
   "cell_type": "code",
   "execution_count": 38,
   "id": "9aeef9b2-5559-4d5c-82f6-53595549ef28",
   "metadata": {},
   "outputs": [
    {
     "data": {
      "text/plain": [
       "array([[ 0.88090011],\n",
       "       [-0.04072501],\n",
       "       [ 0.        ]])"
      ]
     },
     "execution_count": 38,
     "metadata": {},
     "output_type": "execute_result"
    }
   ],
   "source": [
    "y_dot1 = Jo1@numpy.array([[1,]]).T\n",
    "y_dot1"
   ]
  },
  {
   "cell_type": "code",
   "execution_count": 39,
   "id": "96887480-6d0d-42fc-926b-24868fa0858c",
   "metadata": {},
   "outputs": [
    {
     "data": {
      "text/plain": [
       "array([[0.8099553 ],\n",
       "       [2.03637554],\n",
       "       [0.        ]])"
      ]
     },
     "execution_count": 39,
     "metadata": {},
     "output_type": "execute_result"
    }
   ],
   "source": [
    "p_out_n = numpy.array(p_out.subs(design).subs(state),dtype=float)\n",
    "p_out_n"
   ]
  },
  {
   "cell_type": "code",
   "execution_count": 40,
   "id": "8cc71448-9f50-4c73-97b4-b1b6d8ef36e1",
   "metadata": {},
   "outputs": [
    {
     "data": {
      "text/plain": [
       "array([[ 0.80973514],\n",
       "       [-2.03640134],\n",
       "       [ 0.        ]])"
      ]
     },
     "execution_count": 40,
     "metadata": {},
     "output_type": "execute_result"
    }
   ],
   "source": [
    "p_out_n1 = numpy.array(p_out.subs(design1).subs(state1),dtype=float)\n",
    "p_out_n1"
   ]
  },
  {
   "cell_type": "code",
   "execution_count": 41,
   "id": "9cd615d5-f0aa-41a6-844a-d52c7d1b8ff4",
   "metadata": {},
   "outputs": [
    {
     "name": "stdout",
     "output_type": "stream",
     "text": [
      "[[ 2.16972409e-01  1.40259146e+00  3.00000000e+00  0.00000000e+00\n",
      "   2.17214102e-01  1.40269651e+00]\n",
      " [ 1.23102703e+00  2.84171243e+00 -9.79028539e-05  0.00000000e+00\n",
      "   1.23098255e+00  2.84176853e+00]\n",
      " [ 0.00000000e+00  0.00000000e+00  0.00000000e+00  0.00000000e+00\n",
      "   0.00000000e+00  0.00000000e+00]]\n",
      "[[ 2.24556065e-01  1.40231820e+00  2.99999999e+00  0.00000000e+00\n",
      "   2.16970667e-01  1.40249962e+00]\n",
      " [-1.22542131e+00 -2.84186071e+00 -2.03997727e-04  0.00000000e+00\n",
      "  -1.23102548e+00 -2.84177720e+00]\n",
      " [ 0.00000000e+00  0.00000000e+00  0.00000000e+00  0.00000000e+00\n",
      "   0.00000000e+00  0.00000000e+00]]\n"
     ]
    },
    {
     "data": {
      "text/plain": [
       "<matplotlib.patches.FancyArrow at 0x2ad82762cd0>"
      ]
     },
     "execution_count": 41,
     "metadata": {},
     "output_type": "execute_result"
    },
    {
     "data": {
      "image/png": "[encoded data removed]",
      "text/plain": [
       "<Figure size 640x480 with 1 Axes>"
      ]
     },
     "metadata": {},
     "output_type": "display_data"
    }
   ],
   "source": [
    "plot_fourbar(design,result.x)\n",
    "plt.arrow(p_out_n[0,0],p_out_n[1,0],y_dot[0,0],y_dot[1,0],\n",
    "            shape='full',head_width=.1,head_length=.1)\n",
    "\n",
    "plot_fourbar(design1,result1.x)\n",
    "plt.arrow(p_out_n1[0,0],p_out_n1[1,0],y_dot1[0,0],y_dot1[1,0],\n",
    "            shape='full',head_width=.1,head_length=.1)"
   ]
  },
  {
   "cell_type": "code",
   "execution_count": null,
   "id": "4bf794c4-7bfa-417d-b3a6-54732e44bffa",
   "metadata": {},
   "outputs": [],
   "source": []
  }
 ],
 "metadata": {
  "kernelspec": {
   "display_name": "Python 3 (ipykernel)",
   "language": "python",
   "name": "python3"
  },
  "language_info": {
   "codemirror_mode": {
    "name": "ipython",
    "version": 3
   },
   "file_extension": ".py",
   "mimetype": "text/x-python",
   "name": "python",
   "nbconvert_exporter": "python",
   "pygments_lexer": "ipython3",
   "version": "3.9.19"
  }
 },
 "nbformat": 4,
 "nbformat_minor": 5
}
